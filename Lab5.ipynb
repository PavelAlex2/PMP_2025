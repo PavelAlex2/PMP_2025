{
  "nbformat": 4,
  "nbformat_minor": 0,
  "metadata": {
    "colab": {
      "provenance": []
    },
    "kernelspec": {
      "name": "python3",
      "display_name": "Python 3"
    },
    "language_info": {
      "name": "python"
    }
  },
  "cells": [
    {
      "cell_type": "code",
      "execution_count": 1,
      "metadata": {
        "colab": {
          "base_uri": "https://localhost:8080/"
        },
        "id": "9mxYtPSJZZgb",
        "outputId": "f919f747-97cd-4585-99e2-85f965f2bd20"
      },
      "outputs": [
        {
          "output_type": "stream",
          "name": "stdout",
          "text": [
            "Collecting hmmlearn\n",
            "  Downloading hmmlearn-0.3.3-cp312-cp312-manylinux_2_17_x86_64.manylinux2014_x86_64.whl.metadata (3.0 kB)\n",
            "Requirement already satisfied: numpy>=1.10 in /usr/local/lib/python3.12/dist-packages (from hmmlearn) (2.0.2)\n",
            "Requirement already satisfied: scikit-learn!=0.22.0,>=0.16 in /usr/local/lib/python3.12/dist-packages (from hmmlearn) (1.6.1)\n",
            "Requirement already satisfied: scipy>=0.19 in /usr/local/lib/python3.12/dist-packages (from hmmlearn) (1.16.3)\n",
            "Requirement already satisfied: joblib>=1.2.0 in /usr/local/lib/python3.12/dist-packages (from scikit-learn!=0.22.0,>=0.16->hmmlearn) (1.5.2)\n",
            "Requirement already satisfied: threadpoolctl>=3.1.0 in /usr/local/lib/python3.12/dist-packages (from scikit-learn!=0.22.0,>=0.16->hmmlearn) (3.6.0)\n",
            "Downloading hmmlearn-0.3.3-cp312-cp312-manylinux_2_17_x86_64.manylinux2014_x86_64.whl (165 kB)\n",
            "\u001b[2K   \u001b[90m━━━━━━━━━━━━━━━━━━━━━━━━━━━━━━━━━━━━━━━━\u001b[0m \u001b[32m166.0/166.0 kB\u001b[0m \u001b[31m3.3 MB/s\u001b[0m eta \u001b[36m0:00:00\u001b[0m\n",
            "\u001b[?25hInstalling collected packages: hmmlearn\n",
            "Successfully installed hmmlearn-0.3.3\n"
          ]
        }
      ],
      "source": [
        "!pip install hmmlearn"
      ]
    },
    {
      "cell_type": "code",
      "source": [
        "import numpy as np\n",
        "import matplotlib.pyplot as plt\n",
        "import seaborn as sns\n",
        "from hmmlearn import hmm"
      ],
      "metadata": {
        "id": "zWGGVDqUZfMM"
      },
      "execution_count": 11,
      "outputs": []
    },
    {
      "cell_type": "code",
      "source": [
        "states = [\"Dificil\", \"Mediu\", \"Ușor\"]\n",
        "observations = [\"FB\", \"B\", \"S\", \"NS\"]\n",
        "\n",
        "state_probability = np.array([1/3, 1/3, 1/3])\n",
        "\n",
        "transition_probability = np.array([\n",
        "    [0.0, 0.5, 0.5],\n",
        "    [0.5, 0.25, 0.25],\n",
        "    [0.5, 0.25, 0.25]\n",
        "])\n",
        "\n",
        "emission_probability = np.array([\n",
        "    [0.1, 0.2, 0.4, 0.3],\n",
        "    [0.15, 0.25, 0.5, 0.1],\n",
        "    [0.2, 0.3, 0.4, 0.1]\n",
        "])\n",
        "\n",
        "model = hmm.CategoricalHMM(n_components=len(states))\n",
        "model.startprob_ = state_probability\n",
        "model.transmat_ = transition_probability\n",
        "model.emissionprob_ = emission_probability\n",
        "\n",
        "observations_sequence = np.array([0, 0, 2, 1, 1, 2, 1, 1, 3, 1, 1]).reshape(-1, 1)\n",
        "observations_sequence\n",
        "\n",
        "log_prob = model.score(observations_sequence)\n",
        "prob = np.exp(log_prob)\n",
        "\n",
        "print(f\"Log-probabilitatea observatiilor: {log_prob:.10f}\")\n",
        "print(f\"Probabilitatea observatiilor: {prob:.10f}\")\n",
        "\n",
        "log_prob_viterbi, hidden_states = model.decode(observations_sequence, algorithm=\"viterbi\")\n",
        "\n",
        "prob_viterbi = np.exp(log_prob_viterbi)\n",
        "\n",
        "print(\"\\nMost likely hidden states:\", hidden_states)\n",
        "\n",
        "most_probable_sequence = [states[state] for state in hidden_states]\n",
        "print(f\"[{', '.join(most_probable_sequence)}]\")\n",
        "\n",
        "print(f\"\\nProbabilitatea secventei: {prob_viterbi:.10f}\")\n",
        "\n",
        "\n"
      ],
      "metadata": {
        "colab": {
          "base_uri": "https://localhost:8080/"
        },
        "id": "yJzkATYPccnT",
        "outputId": "32684e41-f105-46f6-cd5e-2112d898973a"
      },
      "execution_count": 26,
      "outputs": [
        {
          "output_type": "stream",
          "name": "stdout",
          "text": [
            "Log-probabilitatea observatiilor: -15.5940688357\n",
            "Probabilitatea observatiilor: 0.0000001689\n",
            "\n",
            "Most likely hidden states: [2 2 0 2 0 1 0 2 0 2 0]\n",
            "[Ușor, Ușor, Dificil, Ușor, Dificil, Mediu, Dificil, Ușor, Dificil, Ușor, Dificil]\n",
            "\n",
            "Probabilitatea secventei: 0.0000000001\n"
          ]
        }
      ]
    }
  ]
}