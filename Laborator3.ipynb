{
  "nbformat": 4,
  "nbformat_minor": 0,
  "metadata": {
    "colab": {
      "provenance": []
    },
    "kernelspec": {
      "name": "python3",
      "display_name": "Python 3"
    },
    "language_info": {
      "name": "python"
    },
    "widgets": {
      "application/vnd.jupyter.widget-state+json": {
        "bd23d065fb4f45258d7c44a3d5f837e5": {
          "model_module": "@jupyter-widgets/controls",
          "model_name": "HBoxModel",
          "model_module_version": "1.5.0",
          "state": {
            "_dom_classes": [],
            "_model_module": "@jupyter-widgets/controls",
            "_model_module_version": "1.5.0",
            "_model_name": "HBoxModel",
            "_view_count": null,
            "_view_module": "@jupyter-widgets/controls",
            "_view_module_version": "1.5.0",
            "_view_name": "HBoxView",
            "box_style": "",
            "children": [
              "IPY_MODEL_0af07d88d79a4a2bb3c769bd4bdf422d",
              "IPY_MODEL_d29d983945124a6dbbf69a4e8172bfee",
              "IPY_MODEL_8468b491527a4ea9879d41d9093df038"
            ],
            "layout": "IPY_MODEL_ca31c68e32de46fb89cad0cc9fefd359"
          }
        },
        "0af07d88d79a4a2bb3c769bd4bdf422d": {
          "model_module": "@jupyter-widgets/controls",
          "model_name": "HTMLModel",
          "model_module_version": "1.5.0",
          "state": {
            "_dom_classes": [],
            "_model_module": "@jupyter-widgets/controls",
            "_model_module_version": "1.5.0",
            "_model_name": "HTMLModel",
            "_view_count": null,
            "_view_module": "@jupyter-widgets/controls",
            "_view_module_version": "1.5.0",
            "_view_name": "HTMLView",
            "description": "",
            "description_tooltip": null,
            "layout": "IPY_MODEL_837434a0a7704acf8bd077900fb6a4c1",
            "placeholder": "​",
            "style": "IPY_MODEL_ef700e54b58242fba070cbd765fac2ad",
            "value": "Generating for node: DRAW: 100%"
          }
        },
        "d29d983945124a6dbbf69a4e8172bfee": {
          "model_module": "@jupyter-widgets/controls",
          "model_name": "FloatProgressModel",
          "model_module_version": "1.5.0",
          "state": {
            "_dom_classes": [],
            "_model_module": "@jupyter-widgets/controls",
            "_model_module_version": "1.5.0",
            "_model_name": "FloatProgressModel",
            "_view_count": null,
            "_view_module": "@jupyter-widgets/controls",
            "_view_module_version": "1.5.0",
            "_view_name": "ProgressView",
            "bar_style": "success",
            "description": "",
            "description_tooltip": null,
            "layout": "IPY_MODEL_927106bff81b4e07af825addfd1639d9",
            "max": 3,
            "min": 0,
            "orientation": "horizontal",
            "style": "IPY_MODEL_093ca01e814a43a8bd06643fc90e3097",
            "value": 3
          }
        },
        "8468b491527a4ea9879d41d9093df038": {
          "model_module": "@jupyter-widgets/controls",
          "model_name": "HTMLModel",
          "model_module_version": "1.5.0",
          "state": {
            "_dom_classes": [],
            "_model_module": "@jupyter-widgets/controls",
            "_model_module_version": "1.5.0",
            "_model_name": "HTMLModel",
            "_view_count": null,
            "_view_module": "@jupyter-widgets/controls",
            "_view_module_version": "1.5.0",
            "_view_name": "HTMLView",
            "description": "",
            "description_tooltip": null,
            "layout": "IPY_MODEL_36108e283d5248569bee23f61bae4cba",
            "placeholder": "​",
            "style": "IPY_MODEL_3fa1ff328699414482e1d114f49b40c2",
            "value": " 3/3 [00:00&lt;00:00, 41.15it/s]"
          }
        },
        "ca31c68e32de46fb89cad0cc9fefd359": {
          "model_module": "@jupyter-widgets/base",
          "model_name": "LayoutModel",
          "model_module_version": "1.2.0",
          "state": {
            "_model_module": "@jupyter-widgets/base",
            "_model_module_version": "1.2.0",
            "_model_name": "LayoutModel",
            "_view_count": null,
            "_view_module": "@jupyter-widgets/base",
            "_view_module_version": "1.2.0",
            "_view_name": "LayoutView",
            "align_content": null,
            "align_items": null,
            "align_self": null,
            "border": null,
            "bottom": null,
            "display": null,
            "flex": null,
            "flex_flow": null,
            "grid_area": null,
            "grid_auto_columns": null,
            "grid_auto_flow": null,
            "grid_auto_rows": null,
            "grid_column": null,
            "grid_gap": null,
            "grid_row": null,
            "grid_template_areas": null,
            "grid_template_columns": null,
            "grid_template_rows": null,
            "height": null,
            "justify_content": null,
            "justify_items": null,
            "left": null,
            "margin": null,
            "max_height": null,
            "max_width": null,
            "min_height": null,
            "min_width": null,
            "object_fit": null,
            "object_position": null,
            "order": null,
            "overflow": null,
            "overflow_x": null,
            "overflow_y": null,
            "padding": null,
            "right": null,
            "top": null,
            "visibility": null,
            "width": null
          }
        },
        "837434a0a7704acf8bd077900fb6a4c1": {
          "model_module": "@jupyter-widgets/base",
          "model_name": "LayoutModel",
          "model_module_version": "1.2.0",
          "state": {
            "_model_module": "@jupyter-widgets/base",
            "_model_module_version": "1.2.0",
            "_model_name": "LayoutModel",
            "_view_count": null,
            "_view_module": "@jupyter-widgets/base",
            "_view_module_version": "1.2.0",
            "_view_name": "LayoutView",
            "align_content": null,
            "align_items": null,
            "align_self": null,
            "border": null,
            "bottom": null,
            "display": null,
            "flex": null,
            "flex_flow": null,
            "grid_area": null,
            "grid_auto_columns": null,
            "grid_auto_flow": null,
            "grid_auto_rows": null,
            "grid_column": null,
            "grid_gap": null,
            "grid_row": null,
            "grid_template_areas": null,
            "grid_template_columns": null,
            "grid_template_rows": null,
            "height": null,
            "justify_content": null,
            "justify_items": null,
            "left": null,
            "margin": null,
            "max_height": null,
            "max_width": null,
            "min_height": null,
            "min_width": null,
            "object_fit": null,
            "object_position": null,
            "order": null,
            "overflow": null,
            "overflow_x": null,
            "overflow_y": null,
            "padding": null,
            "right": null,
            "top": null,
            "visibility": null,
            "width": null
          }
        },
        "ef700e54b58242fba070cbd765fac2ad": {
          "model_module": "@jupyter-widgets/controls",
          "model_name": "DescriptionStyleModel",
          "model_module_version": "1.5.0",
          "state": {
            "_model_module": "@jupyter-widgets/controls",
            "_model_module_version": "1.5.0",
            "_model_name": "DescriptionStyleModel",
            "_view_count": null,
            "_view_module": "@jupyter-widgets/base",
            "_view_module_version": "1.2.0",
            "_view_name": "StyleView",
            "description_width": ""
          }
        },
        "927106bff81b4e07af825addfd1639d9": {
          "model_module": "@jupyter-widgets/base",
          "model_name": "LayoutModel",
          "model_module_version": "1.2.0",
          "state": {
            "_model_module": "@jupyter-widgets/base",
            "_model_module_version": "1.2.0",
            "_model_name": "LayoutModel",
            "_view_count": null,
            "_view_module": "@jupyter-widgets/base",
            "_view_module_version": "1.2.0",
            "_view_name": "LayoutView",
            "align_content": null,
            "align_items": null,
            "align_self": null,
            "border": null,
            "bottom": null,
            "display": null,
            "flex": null,
            "flex_flow": null,
            "grid_area": null,
            "grid_auto_columns": null,
            "grid_auto_flow": null,
            "grid_auto_rows": null,
            "grid_column": null,
            "grid_gap": null,
            "grid_row": null,
            "grid_template_areas": null,
            "grid_template_columns": null,
            "grid_template_rows": null,
            "height": null,
            "justify_content": null,
            "justify_items": null,
            "left": null,
            "margin": null,
            "max_height": null,
            "max_width": null,
            "min_height": null,
            "min_width": null,
            "object_fit": null,
            "object_position": null,
            "order": null,
            "overflow": null,
            "overflow_x": null,
            "overflow_y": null,
            "padding": null,
            "right": null,
            "top": null,
            "visibility": null,
            "width": null
          }
        },
        "093ca01e814a43a8bd06643fc90e3097": {
          "model_module": "@jupyter-widgets/controls",
          "model_name": "ProgressStyleModel",
          "model_module_version": "1.5.0",
          "state": {
            "_model_module": "@jupyter-widgets/controls",
            "_model_module_version": "1.5.0",
            "_model_name": "ProgressStyleModel",
            "_view_count": null,
            "_view_module": "@jupyter-widgets/base",
            "_view_module_version": "1.2.0",
            "_view_name": "StyleView",
            "bar_color": null,
            "description_width": ""
          }
        },
        "36108e283d5248569bee23f61bae4cba": {
          "model_module": "@jupyter-widgets/base",
          "model_name": "LayoutModel",
          "model_module_version": "1.2.0",
          "state": {
            "_model_module": "@jupyter-widgets/base",
            "_model_module_version": "1.2.0",
            "_model_name": "LayoutModel",
            "_view_count": null,
            "_view_module": "@jupyter-widgets/base",
            "_view_module_version": "1.2.0",
            "_view_name": "LayoutView",
            "align_content": null,
            "align_items": null,
            "align_self": null,
            "border": null,
            "bottom": null,
            "display": null,
            "flex": null,
            "flex_flow": null,
            "grid_area": null,
            "grid_auto_columns": null,
            "grid_auto_flow": null,
            "grid_auto_rows": null,
            "grid_column": null,
            "grid_gap": null,
            "grid_row": null,
            "grid_template_areas": null,
            "grid_template_columns": null,
            "grid_template_rows": null,
            "height": null,
            "justify_content": null,
            "justify_items": null,
            "left": null,
            "margin": null,
            "max_height": null,
            "max_width": null,
            "min_height": null,
            "min_width": null,
            "object_fit": null,
            "object_position": null,
            "order": null,
            "overflow": null,
            "overflow_x": null,
            "overflow_y": null,
            "padding": null,
            "right": null,
            "top": null,
            "visibility": null,
            "width": null
          }
        },
        "3fa1ff328699414482e1d114f49b40c2": {
          "model_module": "@jupyter-widgets/controls",
          "model_name": "DescriptionStyleModel",
          "model_module_version": "1.5.0",
          "state": {
            "_model_module": "@jupyter-widgets/controls",
            "_model_module_version": "1.5.0",
            "_model_name": "DescriptionStyleModel",
            "_view_count": null,
            "_view_module": "@jupyter-widgets/base",
            "_view_module_version": "1.2.0",
            "_view_name": "StyleView",
            "description_width": ""
          }
        }
      }
    }
  },
  "cells": [
    {
      "cell_type": "code",
      "source": [
        "!pip install pgmpy"
      ],
      "metadata": {
        "colab": {
          "base_uri": "https://localhost:8080/"
        },
        "collapsed": true,
        "id": "C2lOVudIVa7m",
        "outputId": "ed44fadc-f0ba-4346-b8c4-183547672cf6"
      },
      "execution_count": 59,
      "outputs": [
        {
          "output_type": "stream",
          "name": "stdout",
          "text": [
            "Requirement already satisfied: pgmpy in /usr/local/lib/python3.12/dist-packages (1.0.0)\n",
            "Requirement already satisfied: networkx in /usr/local/lib/python3.12/dist-packages (from pgmpy) (3.5)\n",
            "Requirement already satisfied: numpy in /usr/local/lib/python3.12/dist-packages (from pgmpy) (2.0.2)\n",
            "Requirement already satisfied: scipy in /usr/local/lib/python3.12/dist-packages (from pgmpy) (1.16.2)\n",
            "Requirement already satisfied: scikit-learn in /usr/local/lib/python3.12/dist-packages (from pgmpy) (1.6.1)\n",
            "Requirement already satisfied: pandas in /usr/local/lib/python3.12/dist-packages (from pgmpy) (2.2.2)\n",
            "Requirement already satisfied: torch in /usr/local/lib/python3.12/dist-packages (from pgmpy) (2.8.0+cu126)\n",
            "Requirement already satisfied: statsmodels in /usr/local/lib/python3.12/dist-packages (from pgmpy) (0.14.5)\n",
            "Requirement already satisfied: tqdm in /usr/local/lib/python3.12/dist-packages (from pgmpy) (4.67.1)\n",
            "Requirement already satisfied: joblib in /usr/local/lib/python3.12/dist-packages (from pgmpy) (1.5.2)\n",
            "Requirement already satisfied: opt-einsum in /usr/local/lib/python3.12/dist-packages (from pgmpy) (3.4.0)\n",
            "Requirement already satisfied: pyro-ppl in /usr/local/lib/python3.12/dist-packages (from pgmpy) (1.9.1)\n",
            "Requirement already satisfied: python-dateutil>=2.8.2 in /usr/local/lib/python3.12/dist-packages (from pandas->pgmpy) (2.9.0.post0)\n",
            "Requirement already satisfied: pytz>=2020.1 in /usr/local/lib/python3.12/dist-packages (from pandas->pgmpy) (2025.2)\n",
            "Requirement already satisfied: tzdata>=2022.7 in /usr/local/lib/python3.12/dist-packages (from pandas->pgmpy) (2025.2)\n",
            "Requirement already satisfied: pyro-api>=0.1.1 in /usr/local/lib/python3.12/dist-packages (from pyro-ppl->pgmpy) (0.1.2)\n",
            "Requirement already satisfied: filelock in /usr/local/lib/python3.12/dist-packages (from torch->pgmpy) (3.20.0)\n",
            "Requirement already satisfied: typing-extensions>=4.10.0 in /usr/local/lib/python3.12/dist-packages (from torch->pgmpy) (4.15.0)\n",
            "Requirement already satisfied: setuptools in /usr/local/lib/python3.12/dist-packages (from torch->pgmpy) (75.2.0)\n",
            "Requirement already satisfied: sympy>=1.13.3 in /usr/local/lib/python3.12/dist-packages (from torch->pgmpy) (1.13.3)\n",
            "Requirement already satisfied: jinja2 in /usr/local/lib/python3.12/dist-packages (from torch->pgmpy) (3.1.6)\n",
            "Requirement already satisfied: fsspec in /usr/local/lib/python3.12/dist-packages (from torch->pgmpy) (2025.3.0)\n",
            "Requirement already satisfied: nvidia-cuda-nvrtc-cu12==12.6.77 in /usr/local/lib/python3.12/dist-packages (from torch->pgmpy) (12.6.77)\n",
            "Requirement already satisfied: nvidia-cuda-runtime-cu12==12.6.77 in /usr/local/lib/python3.12/dist-packages (from torch->pgmpy) (12.6.77)\n",
            "Requirement already satisfied: nvidia-cuda-cupti-cu12==12.6.80 in /usr/local/lib/python3.12/dist-packages (from torch->pgmpy) (12.6.80)\n",
            "Requirement already satisfied: nvidia-cudnn-cu12==9.10.2.21 in /usr/local/lib/python3.12/dist-packages (from torch->pgmpy) (9.10.2.21)\n",
            "Requirement already satisfied: nvidia-cublas-cu12==12.6.4.1 in /usr/local/lib/python3.12/dist-packages (from torch->pgmpy) (12.6.4.1)\n",
            "Requirement already satisfied: nvidia-cufft-cu12==11.3.0.4 in /usr/local/lib/python3.12/dist-packages (from torch->pgmpy) (11.3.0.4)\n",
            "Requirement already satisfied: nvidia-curand-cu12==10.3.7.77 in /usr/local/lib/python3.12/dist-packages (from torch->pgmpy) (10.3.7.77)\n",
            "Requirement already satisfied: nvidia-cusolver-cu12==11.7.1.2 in /usr/local/lib/python3.12/dist-packages (from torch->pgmpy) (11.7.1.2)\n",
            "Requirement already satisfied: nvidia-cusparse-cu12==12.5.4.2 in /usr/local/lib/python3.12/dist-packages (from torch->pgmpy) (12.5.4.2)\n",
            "Requirement already satisfied: nvidia-cusparselt-cu12==0.7.1 in /usr/local/lib/python3.12/dist-packages (from torch->pgmpy) (0.7.1)\n",
            "Requirement already satisfied: nvidia-nccl-cu12==2.27.3 in /usr/local/lib/python3.12/dist-packages (from torch->pgmpy) (2.27.3)\n",
            "Requirement already satisfied: nvidia-nvtx-cu12==12.6.77 in /usr/local/lib/python3.12/dist-packages (from torch->pgmpy) (12.6.77)\n",
            "Requirement already satisfied: nvidia-nvjitlink-cu12==12.6.85 in /usr/local/lib/python3.12/dist-packages (from torch->pgmpy) (12.6.85)\n",
            "Requirement already satisfied: nvidia-cufile-cu12==1.11.1.6 in /usr/local/lib/python3.12/dist-packages (from torch->pgmpy) (1.11.1.6)\n",
            "Requirement already satisfied: triton==3.4.0 in /usr/local/lib/python3.12/dist-packages (from torch->pgmpy) (3.4.0)\n",
            "Requirement already satisfied: threadpoolctl>=3.1.0 in /usr/local/lib/python3.12/dist-packages (from scikit-learn->pgmpy) (3.6.0)\n",
            "Requirement already satisfied: patsy>=0.5.6 in /usr/local/lib/python3.12/dist-packages (from statsmodels->pgmpy) (1.0.1)\n",
            "Requirement already satisfied: packaging>=21.3 in /usr/local/lib/python3.12/dist-packages (from statsmodels->pgmpy) (25.0)\n",
            "Requirement already satisfied: six>=1.5 in /usr/local/lib/python3.12/dist-packages (from python-dateutil>=2.8.2->pandas->pgmpy) (1.17.0)\n",
            "Requirement already satisfied: mpmath<1.4,>=1.1.0 in /usr/local/lib/python3.12/dist-packages (from sympy>=1.13.3->torch->pgmpy) (1.3.0)\n",
            "Requirement already satisfied: MarkupSafe>=2.0 in /usr/local/lib/python3.12/dist-packages (from jinja2->torch->pgmpy) (3.0.3)\n"
          ]
        }
      ]
    },
    {
      "cell_type": "markdown",
      "source": [
        "## Problema 1"
      ],
      "metadata": {
        "id": "Z5qrhAc3AYkB"
      }
    },
    {
      "cell_type": "code",
      "execution_count": 60,
      "metadata": {
        "colab": {
          "base_uri": "https://localhost:8080/",
          "height": 516
        },
        "id": "mPilu4iZU-UO",
        "outputId": "cd24baa4-d6b9-4506-e113-1b6c2bea62cc"
      },
      "outputs": [
        {
          "output_type": "display_data",
          "data": {
            "text/plain": [
              "<Figure size 640x480 with 1 Axes>"
            ],
            "image/png": "[encoded data removed]"
          },
          "metadata": {}
        }
      ],
      "source": [
        "\n",
        "from pgmpy.models import DiscreteBayesianNetwork\n",
        "from pgmpy.factors.discrete import TabularCPD\n",
        "import networkx as nx\n",
        "import matplotlib.pyplot as plt\n",
        "\n",
        "problem_model = DiscreteBayesianNetwork([('S', 'L'), ('S', 'M'), ('S', 'O'),\n",
        "                                ('L', 'M')])\n",
        "\n",
        "pos = nx.circular_layout(problem_model)\n",
        "nx.draw(problem_model, with_labels=True, pos=pos, alpha=0.5, node_size=2000)\n",
        "plt.show()"
      ]
    },
    {
      "cell_type": "code",
      "source": [
        "CPD_S= TabularCPD(variable='S', variable_card=2, values=[[0.6], [0.4]])\n",
        "print(CPD_S)\n",
        "\n",
        "CPD_O = TabularCPD(variable='O',\n",
        "                   variable_card=2,\n",
        "                   values=[[0.9, 0.3], # P(O=0 | S=0), P(O=0 | S=1)\n",
        "                           [0.1, 0.7]],  # P(O=1 | S=0), P(O=1 | S=1)\n",
        "                   evidence=['S'],\n",
        "                   evidence_card=[2])\n",
        "print(CPD_O)\n",
        "\n",
        "CPD_L = TabularCPD(variable='L',\n",
        "                   variable_card=2,\n",
        "                   values=[[0.7, 0.2], # P(L=0 | S=0), P(L=0 | S=1)\n",
        "                           [0.3, 0.8]],  # P(L=1 | S=0), P(L=1 | S=1)\n",
        "                   evidence=['S'],\n",
        "                   evidence_card=[2])\n",
        "print(CPD_L)\n",
        "\n",
        "CPD_M = TabularCPD(variable='M',\n",
        "                   variable_card=2,\n",
        "                   values=[[0.8, 0.4, 0.5, 0.1],\n",
        "                           [0.2, 0.6, 0.5, 0.9]],\n",
        "                   evidence=['S', 'L'],\n",
        "                   evidence_card=[2, 2])\n",
        "\n",
        "print(CPD_M)\n"
      ],
      "metadata": {
        "colab": {
          "base_uri": "https://localhost:8080/"
        },
        "id": "ZdI6eKhDWoPu",
        "outputId": "77ec135d-f7f7-4e3d-82d6-552c0cadad4a"
      },
      "execution_count": 61,
      "outputs": [
        {
          "output_type": "stream",
          "name": "stdout",
          "text": [
            "+------+-----+\n",
            "| S(0) | 0.6 |\n",
            "+------+-----+\n",
            "| S(1) | 0.4 |\n",
            "+------+-----+\n",
            "+------+------+------+\n",
            "| S    | S(0) | S(1) |\n",
            "+------+------+------+\n",
            "| O(0) | 0.9  | 0.3  |\n",
            "+------+------+------+\n",
            "| O(1) | 0.1  | 0.7  |\n",
            "+------+------+------+\n",
            "+------+------+------+\n",
            "| S    | S(0) | S(1) |\n",
            "+------+------+------+\n",
            "| L(0) | 0.7  | 0.2  |\n",
            "+------+------+------+\n",
            "| L(1) | 0.3  | 0.8  |\n",
            "+------+------+------+\n",
            "+------+------+------+------+------+\n",
            "| S    | S(0) | S(0) | S(1) | S(1) |\n",
            "+------+------+------+------+------+\n",
            "| L    | L(0) | L(1) | L(0) | L(1) |\n",
            "+------+------+------+------+------+\n",
            "| M(0) | 0.8  | 0.4  | 0.5  | 0.1  |\n",
            "+------+------+------+------+------+\n",
            "| M(1) | 0.2  | 0.6  | 0.5  | 0.9  |\n",
            "+------+------+------+------+------+\n"
          ]
        }
      ]
    },
    {
      "cell_type": "code",
      "source": [
        "problem_model.add_cpds(CPD_S, CPD_O, CPD_L, CPD_M)\n",
        "problem_model.get_cpds()"
      ],
      "metadata": {
        "colab": {
          "base_uri": "https://localhost:8080/"
        },
        "collapsed": true,
        "id": "Pf2b0hcSbylo",
        "outputId": "e2b320e0-eb72-4318-d9c3-c3722d58d8aa"
      },
      "execution_count": 62,
      "outputs": [
        {
          "output_type": "execute_result",
          "data": {
            "text/plain": [
              "[<TabularCPD representing P(S:2) at 0x7ee9d72dcfb0>,\n",
              " <TabularCPD representing P(O:2 | S:2) at 0x7ee9d72dc680>,\n",
              " <TabularCPD representing P(L:2 | S:2) at 0x7ee9d72dfa10>,\n",
              " <TabularCPD representing P(M:2 | S:2, L:2) at 0x7ee9d72de2a0>]"
            ]
          },
          "metadata": {},
          "execution_count": 62
        }
      ]
    },
    {
      "cell_type": "code",
      "source": [
        "problem_model.check_model()\n",
        "\n",
        "problem_model.local_independencies(['S', 'O', 'L', 'M'])"
      ],
      "metadata": {
        "colab": {
          "base_uri": "https://localhost:8080/"
        },
        "id": "tgdjJQK6b8gG",
        "outputId": "9bbcdc2d-ce0d-4506-eb1c-50a9cf1292d9"
      },
      "execution_count": 63,
      "outputs": [
        {
          "output_type": "execute_result",
          "data": {
            "text/plain": [
              "(O ⟂ M, L | S)\n",
              "(L ⟂ O | S)\n",
              "(M ⟂ O | S, L)"
            ]
          },
          "metadata": {},
          "execution_count": 63
        }
      ]
    },
    {
      "cell_type": "code",
      "metadata": {
        "colab": {
          "base_uri": "https://localhost:8080/"
        },
        "id": "88a113e0",
        "outputId": "cba4ae74-1264-4f39-a469-ca7288e22cdb"
      },
      "source": [
        "from pgmpy.inference import VariableElimination\n",
        "\n",
        "inference_engine = VariableElimination(problem_model)\n",
        "\n",
        "posterior_p = inference_engine.query(['S'], evidence={'O':0, 'L':1, 'M':0})\n",
        "print(posterior_p)"
      ],
      "execution_count": 64,
      "outputs": [
        {
          "output_type": "stream",
          "name": "stdout",
          "text": [
            "+------+----------+\n",
            "| S    |   phi(S) |\n",
            "+======+==========+\n",
            "| S(0) |   0.8710 |\n",
            "+------+----------+\n",
            "| S(1) |   0.1290 |\n",
            "+------+----------+\n"
          ]
        }
      ]
    },
    {
      "cell_type": "markdown",
      "source": [
        "## Problema 2"
      ],
      "metadata": {
        "id": "rjspEG4zArQh"
      }
    },
    {
      "cell_type": "code",
      "source": [
        "problem2 = DiscreteBayesianNetwork([(\"DICE\", \"ADDED\"), (\"ADDED\", \"DRAW\")])\n",
        "\n",
        "pos = nx.circular_layout(problem2)\n",
        "nx.draw(problem2, with_labels=True, pos=pos, alpha=0.5, node_size=2000)\n",
        "plt.show()\n",
        "\n",
        "CPD_dice = TabularCPD(\n",
        "    variable='DICE',\n",
        "    variable_card=6,\n",
        "    values=[[1/6], [1/6], [1/6], [1/6], [1/6], [1/6]],\n",
        "    state_names={'DICE': [1, 2, 3, 4, 5, 6]}\n",
        ")\n",
        "print(CPD_dice)\n",
        "\n",
        "CPD_added = TabularCPD(\n",
        "    variable='ADDED',\n",
        "    variable_card=3,\n",
        "    values=[\n",
        "        [0, 0, 0, 0, 0, 1],\n",
        "        [1, 0, 0, 1, 0, 0],\n",
        "        [0, 1, 1, 0, 1, 0]\n",
        "    ],\n",
        "    evidence=['DICE'],\n",
        "    evidence_card=[6],\n",
        "    state_names={\n",
        "        'ADDED': ['red', 'blue', 'black'],\n",
        "        'DICE': [1, 2, 3, 4, 5, 6]\n",
        "    }\n",
        ")\n",
        "print(CPD_added)\n",
        "\n",
        "CPD_draw = TabularCPD(\n",
        "    variable='DRAW',\n",
        "    variable_card=3,\n",
        "    values=[\n",
        "        [4/10, 3/10, 3/10],\n",
        "        [4/10, 5/10, 4/10],\n",
        "        [2/10, 2/10, 3/10],\n",
        "    ],\n",
        "    evidence=['ADDED'],\n",
        "    evidence_card=[3],\n",
        "    state_names={\n",
        "        'DRAW': ['red', 'blue', 'black'],\n",
        "        'ADDED': ['red', 'blue', 'black']\n",
        "    }\n",
        ")\n",
        "print(CPD_draw)"
      ],
      "metadata": {
        "colab": {
          "base_uri": "https://localhost:8080/",
          "height": 1000
        },
        "collapsed": true,
        "id": "layg-iQ0hB6J",
        "outputId": "e44eb272-b874-44f5-c68b-7d75a4b93b34"
      },
      "execution_count": 65,
      "outputs": [
        {
          "output_type": "display_data",
          "data": {
            "text/plain": [
              "<Figure size 640x480 with 1 Axes>"
            ],
            "image/png": "[encoded data removed]"
          },
          "metadata": {}
        },
        {
          "output_type": "stream",
          "name": "stdout",
          "text": [
            "+---------+----------+\n",
            "| DICE(1) | 0.166667 |\n",
            "+---------+----------+\n",
            "| DICE(2) | 0.166667 |\n",
            "+---------+----------+\n",
            "| DICE(3) | 0.166667 |\n",
            "+---------+----------+\n",
            "| DICE(4) | 0.166667 |\n",
            "+---------+----------+\n",
            "| DICE(5) | 0.166667 |\n",
            "+---------+----------+\n",
            "| DICE(6) | 0.166667 |\n",
            "+---------+----------+\n",
            "+--------------+---------+---------+---------+---------+---------+---------+\n",
            "| DICE         | DICE(1) | DICE(2) | DICE(3) | DICE(4) | DICE(5) | DICE(6) |\n",
            "+--------------+---------+---------+---------+---------+---------+---------+\n",
            "| ADDED(red)   | 0.0     | 0.0     | 0.0     | 0.0     | 0.0     | 1.0     |\n",
            "+--------------+---------+---------+---------+---------+---------+---------+\n",
            "| ADDED(blue)  | 1.0     | 0.0     | 0.0     | 1.0     | 0.0     | 0.0     |\n",
            "+--------------+---------+---------+---------+---------+---------+---------+\n",
            "| ADDED(black) | 0.0     | 1.0     | 1.0     | 0.0     | 1.0     | 0.0     |\n",
            "+--------------+---------+---------+---------+---------+---------+---------+\n",
            "+-------------+------------+-------------+--------------+\n",
            "| ADDED       | ADDED(red) | ADDED(blue) | ADDED(black) |\n",
            "+-------------+------------+-------------+--------------+\n",
            "| DRAW(red)   | 0.4        | 0.3         | 0.3          |\n",
            "+-------------+------------+-------------+--------------+\n",
            "| DRAW(blue)  | 0.4        | 0.5         | 0.4          |\n",
            "+-------------+------------+-------------+--------------+\n",
            "| DRAW(black) | 0.2        | 0.2         | 0.3          |\n",
            "+-------------+------------+-------------+--------------+\n"
          ]
        }
      ]
    },
    {
      "cell_type": "code",
      "source": [
        "problem2.add_cpds(CPD_dice, CPD_added, CPD_draw)\n",
        "problem2.get_cpds()"
      ],
      "metadata": {
        "colab": {
          "base_uri": "https://localhost:8080/"
        },
        "id": "vv0xqfqRl4PN",
        "outputId": "c44a16ed-e879-4af7-97d7-9b1b798c2a8f"
      },
      "execution_count": 66,
      "outputs": [
        {
          "output_type": "execute_result",
          "data": {
            "text/plain": [
              "[<TabularCPD representing P(DICE:6) at 0x7ee9d76f5700>,\n",
              " <TabularCPD representing P(ADDED:3 | DICE:6) at 0x7ee9dd2185c0>,\n",
              " <TabularCPD representing P(DRAW:3 | ADDED:3) at 0x7ee9dd850590>]"
            ]
          },
          "metadata": {},
          "execution_count": 66
        }
      ]
    },
    {
      "cell_type": "code",
      "source": [
        "problem2.check_model()\n",
        "\n",
        "problem2.local_independencies(['DICE', 'ADDED', 'DRAW'])\n",
        "\n",
        "\n",
        "from pgmpy.sampling import BayesianModelSampling\n",
        "\n",
        "sampler = BayesianModelSampling(problem2)\n",
        "samples = sampler.forward_sample(size=1000)\n",
        "\n",
        "\n",
        "p_red = (samples[\"DRAW\"] == \"red\").mean()\n",
        "print(\"P(DRAW='red') ≈\", p_red)"
      ],
      "metadata": {
        "colab": {
          "base_uri": "https://localhost:8080/",
          "height": 84,
          "referenced_widgets": [
            "bd23d065fb4f45258d7c44a3d5f837e5",
            "0af07d88d79a4a2bb3c769bd4bdf422d",
            "d29d983945124a6dbbf69a4e8172bfee",
            "8468b491527a4ea9879d41d9093df038",
            "ca31c68e32de46fb89cad0cc9fefd359",
            "837434a0a7704acf8bd077900fb6a4c1",
            "ef700e54b58242fba070cbd765fac2ad",
            "927106bff81b4e07af825addfd1639d9",
            "093ca01e814a43a8bd06643fc90e3097",
            "36108e283d5248569bee23f61bae4cba",
            "3fa1ff328699414482e1d114f49b40c2"
          ]
        },
        "id": "s48PA_V9x79y",
        "outputId": "75af4b6f-99b5-4c44-d542-a48a8d132be9"
      },
      "execution_count": 67,
      "outputs": [
        {
          "output_type": "display_data",
          "data": {
            "text/plain": [
              "  0%|          | 0/3 [00:00<?, ?it/s]"
            ],
            "application/vnd.jupyter.widget-view+json": {
              "version_major": 2,
              "version_minor": 0,
              "model_id": "bd23d065fb4f45258d7c44a3d5f837e5"
            }
          },
          "metadata": {}
        },
        {
          "output_type": "stream",
          "name": "stderr",
          "text": [
            "WARNING:pgmpy:Probability values don't exactly sum to 1. Differ by: 1.1102230246251565e-16. Adjusting values.\n"
          ]
        },
        {
          "output_type": "stream",
          "name": "stdout",
          "text": [
            "P(DRAW='red') ≈ 0.31\n"
          ]
        }
      ]
    },
    {
      "cell_type": "markdown",
      "source": [
        "## Problema 3"
      ],
      "metadata": {
        "id": "C9bdLXKXAyHm"
      }
    },
    {
      "cell_type": "code",
      "source": [
        "#Punctul 1\n",
        "\n",
        "import numpy as np\n",
        "\n",
        "N=10000\n",
        "P0_win_rate = 0\n",
        "P1_win_rate = 0\n",
        "\n",
        "for _ in range(N):\n",
        "  n = 0\n",
        "  m = 0\n",
        "\n",
        "  coin_flip=np.random.choice(['head', 'tail'])    # head - P0     tail - P1\n",
        "\n",
        "  if coin_flip == 'head':\n",
        "    n = np.random.randint(1,7)\n",
        "\n",
        "    for _ in range(2*n):\n",
        "      coin_flip2=np.random.choice(['head', 'tail'], p=[4/7, 3/7])\n",
        "\n",
        "      if coin_flip2 == 'head': m+=1\n",
        "\n",
        "    if n >= m:\n",
        "      P0_win_rate +=1\n",
        "    else:\n",
        "      P1_win_rate +=1\n",
        "  else:\n",
        "    n = np.random.randint(1,7)\n",
        "\n",
        "    for _ in range(2*n):\n",
        "      coin_flip2=np.random.choice(['head', 'tail'], p=[0.5, 0.5])\n",
        "\n",
        "      if coin_flip2 == 'head': m+=1\n",
        "\n",
        "    if n >= m:\n",
        "      P1_win_rate +=1\n",
        "    else:\n",
        "      P0_win_rate +=1\n",
        "\n",
        "\n",
        "if P0_win_rate >= P1_win_rate:\n",
        "  print(\"P0_win_rate =\", P0_win_rate / N)\n",
        "else:\n",
        "  print(\"P1_win_rate =\", P1_win_rate / N)\n",
        "\n",
        "\n",
        "\n"
      ],
      "metadata": {
        "colab": {
          "base_uri": "https://localhost:8080/"
        },
        "id": "vxkoax1qA0q-",
        "outputId": "83dcfcbf-654f-4154-a3ee-43d65c294c84"
      },
      "execution_count": 68,
      "outputs": [
        {
          "output_type": "stream",
          "name": "stdout",
          "text": [
            "P1_win_rate = 0.5732\n"
          ]
        }
      ]
    },
    {
      "cell_type": "code",
      "source": [
        "#Punctul 2\n",
        "\n",
        "from re import escape\n",
        "from scipy.stats import binom\n",
        "from pgmpy.models import DiscreteBayesianNetwork\n",
        "from pgmpy.factors.discrete import TabularCPD\n",
        "import networkx as nx\n",
        "import matplotlib.pyplot as plt\n",
        "\n",
        "ex3= DiscreteBayesianNetwork([('STARTER', 'WINNER'), ('DICE2', 'WINNER')])\n",
        "\n",
        "pos = nx.circular_layout(ex3)\n",
        "nx.draw(ex3, with_labels=True, pos=pos, alpha=0.5, node_size=2000)\n",
        "plt.show()\n",
        "\n",
        "CPD_starter = TabularCPD(\n",
        "    variable='STARTER',\n",
        "    variable_card=2,\n",
        "    values=[[0.5], [0.5]],\n",
        "    state_names={'STARTER': ['P0', 'P1']}\n",
        ")\n",
        "\n",
        "CPD_dice2 = TabularCPD(\n",
        "    variable='DICE2',\n",
        "    variable_card=6,\n",
        "    values=[[1/6], [1/6], [1/6], [1/6], [1/6], [1/6]],\n",
        "    state_names={'DICE2': [1, 2, 3, 4, 5, 6]}\n",
        ")\n",
        "\n",
        "CPD_winner = TabularCPD(\n",
        "    variable='WINNER',\n",
        "    variable_card=2,             # P(WINNER = P0 | STERTER = P0 , DICE = 1 ....)\n",
        "    values=[[round(binom.cdf(0, 2, 4/7), 2), round(binom.cdf(1, 4, 4/7), 2), round(binom.cdf(2, 6, 4/7), 2), round(binom.cdf(3, 8, 4/7), 2), round(binom.cdf(4, 10, 4/7), 2), round(binom.cdf(5, 12, 4/7), 2),\n",
        "             round(1-binom.cdf(0, 2, 1/2), 2), round(1-binom.cdf(1, 4, 1/2), 2), round(1-binom.cdf(2, 6, 1/2), 2), round(1-binom.cdf(3, 8, 1/2), 2), round(1-binom.cdf(4, 10, 1/2), 2), round(1-binom.cdf(5, 12, 1/2), 2)],\n",
        "            [round(1-binom.cdf(0, 2, 4/7), 2), round(1-binom.cdf(1, 4, 4/7), 2), round(1-binom.cdf(2, 6, 4/7), 2), round(1-binom.cdf(3, 8, 4/7), 2), round(1-binom.cdf(4, 10, 4/7), 2), round(1-binom.cdf(5, 12, 4/7), 2),\n",
        "             round(binom.cdf(0, 2, 1/2), 2), round(binom.cdf(1, 4, 1/2), 2), round(binom.cdf(2, 6, 1/2), 2), round(binom.cdf(3, 8, 1/2), 2), round(binom.cdf(4, 10, 1/2), 2), round(binom.cdf(5, 12, 1/2), 2)]\n",
        "    ],\n",
        "    evidence=['STARTER','DICE2'],\n",
        "    evidence_card=[2, 6],\n",
        "    state_names={\n",
        "        'WINNER': ['P0', 'P1'],\n",
        "        'STARTER': ['P0', 'P1'],\n",
        "        'DICE2': [1, 2, 3, 4, 5, 6]\n",
        "    }\n",
        ")\n",
        "\n",
        "''' DISTRIBUTIA PENTRU WINNER\n",
        "|    STARTER      |              P0                  |                    P1                          |\n",
        "|     DICE        | 1    | 2    | 3    | 4    | 5    | 6    | 1    | 2    | 3    | 4    | 5    | 6    |\n",
        "| --------------- | ---- | ---- | ---- | ---- | ---- | ---- | ---- | ---- | ---- | ---- | ---- | ---- |\n",
        "| **WINNER = P0** | 0.18 | 0.21 | 0.22 | 0.22 | 0.22 | 0.21 | 0.75 | 0.69 | 0.66 | 0.64 | 0.62 | 0.61 |\n",
        "| **WINNER = P1** | 0.82 | 0.79 | 0.78 | 0.78 | 0.78 | 0.79 | 0.25 | 0.31 | 0.34 | 0.36 | 0.38 | 0.39 |\n",
        "'''\n",
        "\n",
        "\n",
        "print(CPD_starter)\n",
        "print(CPD_winner)\n"
      ],
      "metadata": {
        "colab": {
          "base_uri": "https://localhost:8080/",
          "height": 759
        },
        "id": "FdjDxIIkHhuj",
        "outputId": "a37beaa5-9951-41ab-8518-7d17ab86e649"
      },
      "execution_count": 69,
      "outputs": [
        {
          "output_type": "display_data",
          "data": {
            "text/plain": [
              "<Figure size 640x480 with 1 Axes>"
            ],
            "image/png": "[encoded data removed]"
          },
          "metadata": {}
        },
        {
          "output_type": "stream",
          "name": "stdout",
          "text": [
            "+-------------+-----+\n",
            "| STARTER(P0) | 0.5 |\n",
            "+-------------+-----+\n",
            "| STARTER(P1) | 0.5 |\n",
            "+-------------+-----+\n",
            "+------------+-------------+-----+-------------+-------------+\n",
            "| STARTER    | STARTER(P0) | ... | STARTER(P1) | STARTER(P1) |\n",
            "+------------+-------------+-----+-------------+-------------+\n",
            "| DICE2      | DICE2(1)    | ... | DICE2(5)    | DICE2(6)    |\n",
            "+------------+-------------+-----+-------------+-------------+\n",
            "| WINNER(P0) | 0.18        | ... | 0.62        | 0.61        |\n",
            "+------------+-------------+-----+-------------+-------------+\n",
            "| WINNER(P1) | 0.82        | ... | 0.38        | 0.39        |\n",
            "+------------+-------------+-----+-------------+-------------+\n"
          ]
        }
      ]
    },
    {
      "cell_type": "code",
      "source": [
        "ex3.add_cpds(CPD_starter, CPD_dice2, CPD_winner)\n",
        "ex3.get_cpds()\n",
        "\n",
        "ex3.check_model()\n",
        "\n",
        "ex3.local_independencies(['STARTER', 'DICE2', 'WINNER'])"
      ],
      "metadata": {
        "colab": {
          "base_uri": "https://localhost:8080/"
        },
        "id": "kn1Zi44Zpyx7",
        "outputId": "64c5764e-96ea-4897-815a-30831de09cd8"
      },
      "execution_count": 70,
      "outputs": [
        {
          "output_type": "execute_result",
          "data": {
            "text/plain": [
              "(STARTER ⟂ DICE2)\n",
              "(DICE2 ⟂ STARTER)"
            ]
          },
          "metadata": {},
          "execution_count": 70
        }
      ]
    },
    {
      "cell_type": "code",
      "source": [
        "#Punctul 3\n",
        "\n",
        "from pgmpy.inference import VariableElimination\n",
        "\n",
        "inference = VariableElimination(ex3)\n",
        "\n",
        "p = inference.query(['WINNER'], evidence={'STARTER':'P0',})   # P1 - da cu banul in runda 2\n",
        "print(p)\n",
        "\n",
        "p = inference.query(['WINNER'], evidence={'STARTER':'P1'})    # P0 -  da cu banul in runda 2\n",
        "print(p)\n",
        "\n",
        "''' In concluzie P1 este mai predispus sa inceapa jocul daca in a 2 a runda se da un singur head '''"
      ],
      "metadata": {
        "colab": {
          "base_uri": "https://localhost:8080/",
          "height": 278
        },
        "id": "Pam6ytg-sJl7",
        "outputId": "3970b889-608d-4af1-b89a-5482cc9c43a7"
      },
      "execution_count": 71,
      "outputs": [
        {
          "output_type": "stream",
          "name": "stdout",
          "text": [
            "+------------+---------------+\n",
            "| WINNER     |   phi(WINNER) |\n",
            "+============+===============+\n",
            "| WINNER(P0) |        0.2100 |\n",
            "+------------+---------------+\n",
            "| WINNER(P1) |        0.7900 |\n",
            "+------------+---------------+\n",
            "+------------+---------------+\n",
            "| WINNER     |   phi(WINNER) |\n",
            "+============+===============+\n",
            "| WINNER(P0) |        0.6617 |\n",
            "+------------+---------------+\n",
            "| WINNER(P1) |        0.3383 |\n",
            "+------------+---------------+\n"
          ]
        },
        {
          "output_type": "execute_result",
          "data": {
            "text/plain": [
              "' In concluzie P1 este mai predispus sa inceapa jocul daca in a 2 a runda se da un singur head '"
            ],
            "application/vnd.google.colaboratory.intrinsic+json": {
              "type": "string"
            }
          },
          "metadata": {},
          "execution_count": 71
        }
      ]
    }
  ]
}